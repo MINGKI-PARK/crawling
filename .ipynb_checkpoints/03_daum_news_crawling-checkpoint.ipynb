{
 "cells": [
  {
   "cell_type": "code",
   "execution_count": 17,
   "metadata": {},
   "outputs": [],
   "source": [
    "from urllib import parse\n",
    "from bs4 import BeautifulSoup\n",
    "import requests\n",
    "import re"
   ]
  },
  {
   "cell_type": "markdown",
   "metadata": {},
   "source": [
    "## 다음 뉴스 기사\n",
    "1. 요청 url 확인\n",
    "2. 요청 -> 응답 : 응답 문자열에서 정보 추출 (Beautiful Soup 사용)"
   ]
  },
  {
   "cell_type": "code",
   "execution_count": 2,
   "metadata": {},
   "outputs": [],
   "source": [
    "url = 'https://news.v.daum.net/v/20200722150002447'"
   ]
  },
  {
   "cell_type": "code",
   "execution_count": 14,
   "metadata": {
    "scrolled": false
   },
   "outputs": [
    {
     "name": "stdout",
     "output_type": "stream",
     "text": [
      "200\n",
      "멸종 위기 '자이언트 판다' 한국 땅에서 처음 태어났다\n",
      "장시복 기자\n",
      "<span class=\"txt_info\">입력 <span class=\"num_date\">2020.07.22. 15:00</span></span>\n",
      "2020.07.22. 15:00\n",
      "에버랜드는 지난 20일 국내 유일의 판다 한 쌍 암컷 아이바오(만 7세)와 수컷 러바오(만 8세) 사이에서 아기 판다 1마리가 태어났다고 22일 밝혔다./사진제공=에버랜드\n",
      "           \n",
      "\n",
      "세계적인 멸종 위기종이자 귀여운 외모와 인기 애니메이션 주인공으로 유명한 '자이언트 판다(이하 판다)'가 우리 나라에서 처음 태어났다.\n",
      "에버랜드는 지난 20일 국내 유일의 판다 한 쌍 암컷 아이바오(만 7세)와 수컷 러바오(만 8세) 사이에서 아기 판다 1마리가 태어났다고 22일 밝혔다.\n",
      "아이바오는 진통을 시작한지 1시간 반 만인 지난 20일 밤 9시 49분 키 16.5cm, 몸무게 197g의 건강한 암컷 아기 판다를 출산했다. 에버랜드는 \"산모와 아기 판다 모두 건강한 상태를 유지하고 있다\"고 했다.\n",
      "아이바오와 러바오가 에버랜드에서 생활한지 1601일 만에 세상에 나온 아기 판다는 우리 나라에서 태어난 최초의 판다로 기록된다.\n",
      "2016년 3월 중국 쓰촨성 판다기지에서 약 2400km를 날아와 에버랜드 판다월드에 온 아이바오와 러바오는 지금까지 약 950만명 이상이 관람했을 정도로 큰 사랑을 받아 왔다.\n",
      "당시에는 각각 만 3세, 4세로 아직 어린 상태였지만 판다월드에서 건강하게 성체로 자라며 지난해부터는 임신과 출산에 대한 기대감을 높여 왔다.\n",
      "특히 판다는 임신과 출산이 어려운 동물로 알려져 있다. 가임기가 1년에 단 한 번으로, 통상 3~4월경 1~3일에 불과하다. \n",
      "\n",
      "\n",
      "\n",
      "            에버랜드는 지난 20일 국내 유일의 판다 한 쌍 암컷 아이바오(만 7세)와 수컷 러바오(만 8세) 사이에서 아기 판다 1마리가 태어났다고 22일 밝혔다./사진제공=에버랜드\n",
      "           \n",
      "\n",
      "3~4월경 짝짓기에 성공하면 약 4개월 간의 임신기간을 가진 후 7~8월경 출산한다. 지구상에 존재하는 대부분 판다의 생일이 이 기간에 집중되는 원인이다.\n",
      "게다가 단독생활을 하는 판다의 생태 습성상 서로 떨어져 지내다가 번식기에만 만나 짝짓기까지 성공할 확률은 더욱 낮다.\n",
      "이에 에버랜드 동물원은 아이바오와 러바오가 서로의 체취에 익숙해지도록 주기적으로 방을 바꿔 주고, 곡류로 만든 영양식도 챙겨 먹이며 체력관리에 만전을 기해 왔다.\n",
      "또 혈액, 소변 검사 등 정기 건강 검진을 통해 누적해온 판다들의 호르몬 변화 데이터를 과학적으로 분석해 짝짓기 성공 확률이 높은 최적의 합방일을 선정했고, 올해 3월 말 판다 부부의 자연 교배에 성공했다.\n",
      "에버랜드는 아기 판다가 건강하게 자랄 수 있도록 판다월드 내부에 특별 거처를 마련했으며, 아기의 건강이 최우선인 만큼 당분간 일반에는 비공개할 예정이다.\n",
      "\n",
      "           대신 에버랜드는 일반 공개 전까지 에버랜드 공식 유튜브와 블로그 등 SNS 채널을 통해 아기 판다의 성장 과정과 근황을 지속적으로 공개해 고객들과 소통해 나갈 예정이다. \n",
      "           장시복 기자 sibokism@\n"
     ]
    }
   ],
   "source": [
    "# 1. 요청\n",
    "res = requests.get(url)\n",
    "print(res.status_code) # 항상 확인을 해야한다.\n",
    "\n",
    "# 2. 뷰티풀슾에 넣기\n",
    "\n",
    "# 제목 : h3.tit_view\n",
    "# 기자이름 : span.info_view span.txt_info : nth-child(1)\n",
    "# 입력일시 : span.info_view span.txt_info : nth-child(2)\n",
    "# 기사내용 : div#harmonyContainer\n",
    "\n",
    "\n",
    "if res.status_code == 200:\n",
    "    soup = BeautifulSoup(res.text)\n",
    "    soup.select('h3.tit_view') # 여러개라면 부모로 제약을 걸면된다.\n",
    "    # 아이디는 상관없지만 클래스라면 같은 것이 있는지 확인해야한다.\n",
    "    \n",
    "    title_tag = soup.select_one('h3.tit_view')\n",
    "    reporter_tag = soup.select_one('span.info_view span.txt_info:nth-child(1)')\n",
    "    input_date_tag = soup.select_one('span.info_view span.txt_info:nth-child(2)')\n",
    "    news_tag = soup.select_one('div#harmonyContainer')\n",
    "    \n",
    "    print(title_tag.text.strip()) # 있든 없든 strip()은 기본 옵션처럼 넣어준다.\n",
    "    print(reporter_tag.text.strip())\n",
    "    print(input_date_tag) # 입력 안나오게 하고싶어. 날짜만 나오게 하고싶다. 그럼 이 밑에처럼 하면됨.\n",
    "    print(input_date_tag.select_one('span').text.strip()) # input_date_tag.span 요것도 가능하다!\n",
    "    print(news_tag.text.strip())\n",
    "    \n",
    "    # find 나 select 는 꼭 soup이 아니더라도 태그에도 사용할 수 있다.\n",
    "    \n",
    "else:\n",
    "    print(url, '-요청 실패', res.status_code)"
   ]
  },
  {
   "cell_type": "code",
   "execution_count": 15,
   "metadata": {},
   "outputs": [
    {
     "data": {
      "text/plain": [
       "'\\n\\n\\n\\n\\n            에버랜드는 지난 20일 국내 유일의 판다 한 쌍 암컷 아이바오(만 7세)와 수컷 러바오(만 8세) 사이에서 아기 판다 1마리가 태어났다고 22일 밝혔다./사진제공=에버랜드\\n           \\n\\n세계적인 멸종 위기종이자 귀여운 외모와 인기 애니메이션 주인공으로 유명한 \\'자이언트 판다(이하 판다)\\'가 우리 나라에서 처음 태어났다.\\n에버랜드는 지난 20일 국내 유일의 판다 한 쌍 암컷 아이바오(만 7세)와 수컷 러바오(만 8세) 사이에서 아기 판다 1마리가 태어났다고 22일 밝혔다.\\n아이바오는 진통을 시작한지 1시간 반 만인 지난 20일 밤 9시 49분 키 16.5cm, 몸무게 197g의 건강한 암컷 아기 판다를 출산했다. 에버랜드는 \"산모와 아기 판다 모두 건강한 상태를 유지하고 있다\"고 했다.\\n아이바오와 러바오가 에버랜드에서 생활한지 1601일 만에 세상에 나온 아기 판다는 우리 나라에서 태어난 최초의 판다로 기록된다.\\n2016년 3월 중국 쓰촨성 판다기지에서 약 2400km를 날아와 에버랜드 판다월드에 온 아이바오와 러바오는 지금까지 약 950만명 이상이 관람했을 정도로 큰 사랑을 받아 왔다.\\n당시에는 각각 만 3세, 4세로 아직 어린 상태였지만 판다월드에서 건강하게 성체로 자라며 지난해부터는 임신과 출산에 대한 기대감을 높여 왔다.\\n특히 판다는 임신과 출산이 어려운 동물로 알려져 있다. 가임기가 1년에 단 한 번으로, 통상 3~4월경 1~3일에 불과하다. \\n\\n\\n\\n            에버랜드는 지난 20일 국내 유일의 판다 한 쌍 암컷 아이바오(만 7세)와 수컷 러바오(만 8세) 사이에서 아기 판다 1마리가 태어났다고 22일 밝혔다./사진제공=에버랜드\\n           \\n\\n3~4월경 짝짓기에 성공하면 약 4개월 간의 임신기간을 가진 후 7~8월경 출산한다. 지구상에 존재하는 대부분 판다의 생일이 이 기간에 집중되는 원인이다.\\n게다가 단독생활을 하는 판다의 생태 습성상 서로 떨어져 지내다가 번식기에만 만나 짝짓기까지 성공할 확률은 더욱 낮다.\\n이에 에버랜드 동물원은 아이바오와 러바오가 서로의 체취에 익숙해지도록 주기적으로 방을 바꿔 주고, 곡류로 만든 영양식도 챙겨 먹이며 체력관리에 만전을 기해 왔다.\\n또 혈액, 소변 검사 등 정기 건강 검진을 통해 누적해온 판다들의 호르몬 변화 데이터를 과학적으로 분석해 짝짓기 성공 확률이 높은 최적의 합방일을 선정했고, 올해 3월 말 판다 부부의 자연 교배에 성공했다.\\n에버랜드는 아기 판다가 건강하게 자랄 수 있도록 판다월드 내부에 특별 거처를 마련했으며, 아기의 건강이 최우선인 만큼 당분간 일반에는 비공개할 예정이다.\\n\\n           대신 에버랜드는 일반 공개 전까지 에버랜드 공식 유튜브와 블로그 등 SNS 채널을 통해 아기 판다의 성장 과정과 근황을 지속적으로 공개해 고객들과 소통해 나갈 예정이다. \\n           장시복 기자 sibokism@\\n          \\n\\n'"
      ]
     },
     "execution_count": 15,
     "metadata": {},
     "output_type": "execute_result"
    }
   ],
   "source": [
    "news_tag.text # 프린트 안하면 요런 형식.\n",
    "\n",
    "# 만약에 내가 이런 엔터가 싫다하면\n",
    "# 시작 엔터나 끝엔터는 스트립으로 벗겨낼 수 있음.\n",
    "# 문제는 중간인데 정규식 사용하면 됨."
   ]
  },
  {
   "cell_type": "code",
   "execution_count": 18,
   "metadata": {},
   "outputs": [
    {
     "name": "stdout",
     "output_type": "stream",
     "text": [
      " 에버랜드는 지난 20일 국내 유일의 판다 한 쌍 암컷 아이바오(만 7세)와 수컷 러바오(만 8세) 사이에서 아기 판다 1마리가 태어났다고 22일 밝혔다./사진제공=에버랜드 세계적인 멸종 위기종이자 귀여운 외모와 인기 애니메이션 주인공으로 유명한 '자이언트 판다(이하 판다)'가 우리 나라에서 처음 태어났다. 에버랜드는 지난 20일 국내 유일의 판다 한 쌍 암컷 아이바오(만 7세)와 수컷 러바오(만 8세) 사이에서 아기 판다 1마리가 태어났다고 22일 밝혔다. 아이바오는 진통을 시작한지 1시간 반 만인 지난 20일 밤 9시 49분 키 16.5cm, 몸무게 197g의 건강한 암컷 아기 판다를 출산했다. 에버랜드는 \"산모와 아기 판다 모두 건강한 상태를 유지하고 있다\"고 했다. 아이바오와 러바오가 에버랜드에서 생활한지 1601일 만에 세상에 나온 아기 판다는 우리 나라에서 태어난 최초의 판다로 기록된다. 2016년 3월 중국 쓰촨성 판다기지에서 약 2400km를 날아와 에버랜드 판다월드에 온 아이바오와 러바오는 지금까지 약 950만명 이상이 관람했을 정도로 큰 사랑을 받아 왔다. 당시에는 각각 만 3세, 4세로 아직 어린 상태였지만 판다월드에서 건강하게 성체로 자라며 지난해부터는 임신과 출산에 대한 기대감을 높여 왔다. 특히 판다는 임신과 출산이 어려운 동물로 알려져 있다. 가임기가 1년에 단 한 번으로, 통상 3~4월경 1~3일에 불과하다. 에버랜드는 지난 20일 국내 유일의 판다 한 쌍 암컷 아이바오(만 7세)와 수컷 러바오(만 8세) 사이에서 아기 판다 1마리가 태어났다고 22일 밝혔다./사진제공=에버랜드 3~4월경 짝짓기에 성공하면 약 4개월 간의 임신기간을 가진 후 7~8월경 출산한다. 지구상에 존재하는 대부분 판다의 생일이 이 기간에 집중되는 원인이다. 게다가 단독생활을 하는 판다의 생태 습성상 서로 떨어져 지내다가 번식기에만 만나 짝짓기까지 성공할 확률은 더욱 낮다. 이에 에버랜드 동물원은 아이바오와 러바오가 서로의 체취에 익숙해지도록 주기적으로 방을 바꿔 주고, 곡류로 만든 영양식도 챙겨 먹이며 체력관리에 만전을 기해 왔다. 또 혈액, 소변 검사 등 정기 건강 검진을 통해 누적해온 판다들의 호르몬 변화 데이터를 과학적으로 분석해 짝짓기 성공 확률이 높은 최적의 합방일을 선정했고, 올해 3월 말 판다 부부의 자연 교배에 성공했다. 에버랜드는 아기 판다가 건강하게 자랄 수 있도록 판다월드 내부에 특별 거처를 마련했으며, 아기의 건강이 최우선인 만큼 당분간 일반에는 비공개할 예정이다. 대신 에버랜드는 일반 공개 전까지 에버랜드 공식 유튜브와 블로그 등 SNS 채널을 통해 아기 판다의 성장 과정과 근황을 지속적으로 공개해 고객들과 소통해 나갈 예정이다. 장시복 기자 sibokism@ \n"
     ]
    }
   ],
   "source": [
    "# news_tag.text.replace('\\n', '')\n",
    "\n",
    "p = re.compile(r'\\s+') #\\s - 공백, 엔터, tab\n",
    "news = p.sub(' ', news_tag.text)\n",
    "print(news)\n",
    "# 와 뭐지 이거 해봐야겠다. "
   ]
  },
  {
   "cell_type": "code",
   "execution_count": null,
   "metadata": {},
   "outputs": [],
   "source": [
    "# 함수로 만들기"
   ]
  },
  {
   "cell_type": "code",
   "execution_count": null,
   "metadata": {},
   "outputs": [],
   "source": [
    "def get_daumnews_info(url):\n",
    "    '''\n",
    "    [파라미터]\n",
    "        url : 다음 기사 url\n",
    "    [반환값]\n",
    "        tuple : (제목, 기자이름, 입력일, 기사내용)\n",
    "    '''"
   ]
  },
  {
   "cell_type": "code",
   "execution_count": null,
   "metadata": {},
   "outputs": [],
   "source": [
    "title, reporter, input_date, news = get_daumnews_info('https://news.v.daum.net/v/20200722150002447')\n",
    "\n",
    "# 이거 직접 짜보기."
   ]
  },
  {
   "cell_type": "code",
   "execution_count": null,
   "metadata": {},
   "outputs": [],
   "source": []
  },
  {
   "cell_type": "code",
   "execution_count": null,
   "metadata": {},
   "outputs": [],
   "source": []
  },
  {
   "cell_type": "code",
   "execution_count": null,
   "metadata": {},
   "outputs": [],
   "source": []
  },
  {
   "cell_type": "code",
   "execution_count": null,
   "metadata": {},
   "outputs": [],
   "source": []
  },
  {
   "cell_type": "code",
   "execution_count": null,
   "metadata": {},
   "outputs": [],
   "source": []
  },
  {
   "cell_type": "code",
   "execution_count": null,
   "metadata": {},
   "outputs": [],
   "source": []
  }
 ],
 "metadata": {
  "kernelspec": {
   "display_name": "Python 3",
   "language": "python",
   "name": "python3"
  },
  "language_info": {
   "codemirror_mode": {
    "name": "ipython",
    "version": 3
   },
   "file_extension": ".py",
   "mimetype": "text/x-python",
   "name": "python",
   "nbconvert_exporter": "python",
   "pygments_lexer": "ipython3",
   "version": "3.7.6"
  }
 },
 "nbformat": 4,
 "nbformat_minor": 4
}
