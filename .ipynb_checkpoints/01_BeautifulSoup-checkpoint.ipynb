{
 "cells": [
  {
   "cell_type": "markdown",
   "metadata": {},
   "source": [
    "## [크롬개발자 도구](https://developers.google.com/web/tools/chrome-devtools/)"
   ]
  },
  {
   "cell_type": "markdown",
   "metadata": {},
   "source": [
    "# BeautifulSoup\n",
    "- HTML이나 XML 문서 내에서 원하는 정보를 가져오기 위한 파이썬 라이브러리.\n",
    "- https://www.crummy.com/software/BeautifulSoup/\n",
    "- https://www.crummy.com/software/BeautifulSoup/bs4/doc/\n",
    "- 설치\n",
    "```\n",
    "conda install beautifulsoup4\n",
    "pip install beautifulsoup4\n",
    "```"
   ]
  },
  {
   "cell_type": "markdown",
   "metadata": {},
   "source": [
    "## 코딩 패턴\n",
    "1. BeautifulSoup 클래스 import\n",
    "2. BeautifulSoup 객체 생성 \n",
    "    - 생성시 조회할 HTML 문서 전달\n",
    "3. 문서내에서 필요한 정보 조회\n",
    "    - 태그이름과 태그 속성으로 조회\n",
    "    - css selector를 이용해 조회\n",
    "    - . 표기법을 이용한 탐색(Tree 구조 순서대로 탐색)"
   ]
  },
  {
   "cell_type": "markdown",
   "metadata": {},
   "source": [
    "## 객체 생성\n",
    "- BeautifulSoup(html str [, 파서])\n",
    "    - 매개변수\n",
    "        1. 정보를 조회할 html을 string으로 전달\n",
    "        2. 파서\n",
    "            - html.parser(기본파서)\n",
    "            - lxml : 매우 빠르다. html, xml 파싱 가능(xml 파싱은 lxml만 가능)\n",
    "                - 사용시 install 필요 \n",
    "                - `conda install lxml`\n",
    "                - `pip install lxml`"
   ]
  },
  {
   "cell_type": "code",
   "execution_count": null,
   "metadata": {},
   "outputs": [],
   "source": [
    "import re\n",
    "from bs4 import BeautifulSoup"
   ]
  },
  {
   "cell_type": "code",
   "execution_count": 1,
   "metadata": {
    "scrolled": true
   },
   "outputs": [
    {
     "name": "stdout",
     "output_type": "stream",
     "text": [
      "<html>\n",
      "    <head>\n",
      "\t\t<meta charset=\"utf-8\">\n",
      "        <title>조회할 대상</title>\n",
      "    </head>\n",
      "    <body>\n",
      "\t\t<div id='animal1'>\n",
      "\t\t\t<div class='animal'>사자</div>\n",
      "\t\t\t<div class='cnt'>3마리</div>\n",
      "\t\t</div>\n",
      "\t\t<p>\n",
      "\t\t<div id='animal2'>\n",
      "\t\t\t<div class='animal'>호랑이</div>\n",
      "\t\t\t<div class='cnt'>2마리</div>\n",
      "\t\t</div>\n",
      "\t\t<p>\n",
      "\t\t<div id='animal3'>\n",
      "\t\t\t<div class='animal'>기린</div>\n",
      "\t\t\t<div class='cnt'>5마리</div>\n",
      "\t\t</div>\n",
      "\t\t<p>\n",
      "\t\t<div id='content'>\n",
      "\t\t\t동물원에 <span class='animal'>기린</span>이 <span class='cnt'>5마리</span> 있습니다.\n",
      "\t\t</div>\n",
      "\t\t<p>\n",
      "\t\t<h1>동물원 링크</h1>\n",
      "\t\t<ul>\n",
      "\t\t\t<li><a href='https://grandpark.seoul.go.kr'>서울대공원</a></li>\n",
      "\t\t\t<li><a href='http://www.everland.com'>에버랜드 동물원</a></li>\n",
      "\t\t\t<li><a href='https://www.coexaqua.com'>코엑스 아쿠아리움</a></li>\n",
      "\t\t</ul>\n",
      "\t\t<a href='http://www.google.co.kr'>구글</a>\n",
      "        \n",
      "    </body>\n",
      "</html>\n"
     ]
    }
   ],
   "source": [
    "with open('example.html', encoding='UTF-8') as f:\n",
    "    doc = f.read()\n",
    "print(doc)"
   ]
  },
  {
   "cell_type": "code",
   "execution_count": 4,
   "metadata": {
    "scrolled": true
   },
   "outputs": [
    {
     "name": "stdout",
     "output_type": "stream",
     "text": [
      "<html>\n",
      " <head>\n",
      "  <meta charset=\"utf-8\"/>\n",
      "  <title>\n",
      "   조회할 대상\n",
      "  </title>\n",
      " </head>\n",
      " <body>\n",
      "  <div id=\"animal1\">\n",
      "   <div class=\"animal\">\n",
      "    사자\n",
      "   </div>\n",
      "   <div class=\"cnt\">\n",
      "    3마리\n",
      "   </div>\n",
      "  </div>\n",
      "  <p>\n",
      "  </p>\n",
      "  <div id=\"animal2\">\n",
      "   <div class=\"animal\">\n",
      "    호랑이\n",
      "   </div>\n",
      "   <div class=\"cnt\">\n",
      "    2마리\n",
      "   </div>\n",
      "  </div>\n",
      "  <p>\n",
      "  </p>\n",
      "  <div id=\"animal3\">\n",
      "   <div class=\"animal\">\n",
      "    기린\n",
      "   </div>\n",
      "   <div class=\"cnt\">\n",
      "    5마리\n",
      "   </div>\n",
      "  </div>\n",
      "  <p>\n",
      "  </p>\n",
      "  <div id=\"content\">\n",
      "   동물원에\n",
      "   <span class=\"animal\">\n",
      "    기린\n",
      "   </span>\n",
      "   이\n",
      "   <span class=\"cnt\">\n",
      "    5마리\n",
      "   </span>\n",
      "   있습니다.\n",
      "  </div>\n",
      "  <p>\n",
      "  </p>\n",
      "  <h1>\n",
      "   동물원 링크\n",
      "  </h1>\n",
      "  <ul>\n",
      "   <li>\n",
      "    <a href=\"https://grandpark.seoul.go.kr\">\n",
      "     서울대공원\n",
      "    </a>\n",
      "   </li>\n",
      "   <li>\n",
      "    <a href=\"http://www.everland.com\">\n",
      "     에버랜드 동물원\n",
      "    </a>\n",
      "   </li>\n",
      "   <li>\n",
      "    <a href=\"https://www.coexaqua.com\">\n",
      "     코엑스 아쿠아리움\n",
      "    </a>\n",
      "   </li>\n",
      "  </ul>\n",
      "  <a href=\"http://www.google.co.kr\">\n",
      "   구글\n",
      "  </a>\n",
      " </body>\n",
      "</html>\n"
     ]
    }
   ],
   "source": [
    "soup = BeautifulSoup(doc)\n",
    "print(soup.prettify()) # 요고하면 더 예쁘게 나옴. 탭키까지 적용해서. 프리티파이~"
   ]
  },
  {
   "cell_type": "code",
   "execution_count": 7,
   "metadata": {},
   "outputs": [
    {
     "data": {
      "text/plain": [
       "[<a href=\"https://grandpark.seoul.go.kr\">서울대공원</a>,\n",
       " <a href=\"http://www.everland.com\">에버랜드 동물원</a>,\n",
       " <a href=\"https://www.coexaqua.com\">코엑스 아쿠아리움</a>,\n",
       " <a href=\"http://www.google.co.kr\">구글</a>]"
      ]
     },
     "execution_count": 7,
     "metadata": {},
     "output_type": "execute_result"
    }
   ],
   "source": [
    "soup.find_all('a') # 슾 안에서 a 태그 전부 다 찾아줘~ 라는 뜻\n",
    "\n",
    "# 메서드가 하나만 찾는 애도 있고, 여러 개 찾는 애도 있다.\n",
    "# ex) find, find_all, select_one, select "
   ]
  },
  {
   "cell_type": "code",
   "execution_count": 6,
   "metadata": {},
   "outputs": [
    {
     "name": "stdout",
     "output_type": "stream",
     "text": [
      "<class 'bs4.element.Tag'>\n"
     ]
    }
   ],
   "source": [
    "print(type(soup.find_all('a')[0]))\n",
    "# 문자열처럼 보이지만 문자열이 아니라 태그 객체이다."
   ]
  },
  {
   "cell_type": "code",
   "execution_count": null,
   "metadata": {},
   "outputs": [],
   "source": [
    "# 태그 전체를 요소라고 한다. element"
   ]
  },
  {
   "cell_type": "markdown",
   "metadata": {},
   "source": [
    "## 문서내에서 원하는 정보 검색\n",
    "\n",
    "### Tag \n",
    "- 하나의 태그(element)의 데이터를 담은 객체\n",
    "    - BeautifulSoup 조회메소드들의 조회결과 반환타입.\n",
    "    - 아래 조회 함수들을 이용해 조회하면 그 결과를 Tag 객체나 Tag 객체들을 담은 List로 반환한다.\n",
    "    - Tag 객체를 이용해 element로 부터 text나 attribute등을 조회하거나 그 하위 element 들을 추가로 조회할 수 있다.\n",
    "- 주요 속성/메소드\n",
    "    - **태그의 속성값 조회**\n",
    "        - tag객체.get('속성명') \n",
    "        - tag객체['속성명']\n",
    "        - ex) tag.get('href') 또는 tag['href']\n",
    "    - **태그내 text값 조회**\n",
    "        - tag객체.get_text()\n",
    "        - tag객체.text\n",
    "        - tag.get_text() 또는 tag.text\n",
    "    - **contents 속성**\n",
    "        - 조회한 태그의 모든 자식 요소들을 리스트로 반환\n",
    "        - child_list = tag.contents"
   ]
  },
  {
   "cell_type": "markdown",
   "metadata": {},
   "source": [
    "## 조회 함수\n",
    "- 태그의 이름으로 조회\n",
    "    - find_all(), find()\n",
    "- css selector를 이용해 조회\n",
    "    - select(), select_one()\n",
    "- `.` 표기법. dom tree 구조의 계층 순서대로 조회\n",
    "    - 위의 두방식으로 찾은 tag를 기준으로 그 주위의 element 들을 찾을 때 사용"
   ]
  },
  {
   "cell_type": "markdown",
   "metadata": {},
   "source": [
    "### 태그의 이름으로 조회\n",
    "- **find_all**(name=태그명, attrs={속성명:속성값, ..})\n",
    "   - 일치하는 모든 태그들을 반환\n",
    "- **find**(name=태그명, attrs={속성명:속성값})\n",
    "    - 일치하는 태그를 반환\n",
    "    - 일치하는 태그가 여러개일 경우 첫번째 것 하나만 반환한다."
   ]
  },
  {
   "cell_type": "code",
   "execution_count": 10,
   "metadata": {},
   "outputs": [
    {
     "data": {
      "text/plain": [
       "'서울대공원'"
      ]
     },
     "execution_count": 10,
     "metadata": {},
     "output_type": "execute_result"
    }
   ],
   "source": [
    "soup.find_all('a')[0].text"
   ]
  },
  {
   "cell_type": "code",
   "execution_count": null,
   "metadata": {},
   "outputs": [],
   "source": [
    "# 태그를 찾았는데 그 안에 더 찾아들어가고 싶을 때는 . 표기법을 사용한다."
   ]
  },
  {
   "cell_type": "code",
   "execution_count": 15,
   "metadata": {},
   "outputs": [
    {
     "data": {
      "text/plain": [
       "[<div id=\"animal1\">\n",
       " <div class=\"animal\">사자</div>\n",
       " <div class=\"cnt\">3마리</div>\n",
       " </div>,\n",
       " <div class=\"animal\">사자</div>,\n",
       " <div class=\"cnt\">3마리</div>,\n",
       " <div id=\"animal2\">\n",
       " <div class=\"animal\">호랑이</div>\n",
       " <div class=\"cnt\">2마리</div>\n",
       " </div>,\n",
       " <div class=\"animal\">호랑이</div>,\n",
       " <div class=\"cnt\">2마리</div>,\n",
       " <div id=\"animal3\">\n",
       " <div class=\"animal\">기린</div>\n",
       " <div class=\"cnt\">5마리</div>\n",
       " </div>,\n",
       " <div class=\"animal\">기린</div>,\n",
       " <div class=\"cnt\">5마리</div>,\n",
       " <div id=\"content\">\n",
       " \t\t\t동물원에 <span class=\"animal\">기린</span>이 <span class=\"cnt\">5마리</span> 있습니다.\n",
       " \t\t</div>]"
      ]
     },
     "execution_count": 15,
     "metadata": {},
     "output_type": "execute_result"
    }
   ],
   "source": [
    "soup.find_all('div')"
   ]
  },
  {
   "cell_type": "code",
   "execution_count": 18,
   "metadata": {},
   "outputs": [
    {
     "data": {
      "text/plain": [
       "10"
      ]
     },
     "execution_count": 18,
     "metadata": {},
     "output_type": "execute_result"
    }
   ],
   "source": [
    "r1 = soup.find_all('div')\n",
    "len(r1)"
   ]
  },
  {
   "cell_type": "code",
   "execution_count": 19,
   "metadata": {},
   "outputs": [
    {
     "data": {
      "text/plain": [
       "(<div id=\"animal1\">\n",
       " <div class=\"animal\">사자</div>\n",
       " <div class=\"cnt\">3마리</div>\n",
       " </div>,\n",
       " bs4.element.Tag)"
      ]
     },
     "execution_count": 19,
     "metadata": {},
     "output_type": "execute_result"
    }
   ],
   "source": [
    "r2 = soup.find('div')\n",
    "# find는 첫 번째꺼 딱 하나만 반환한다.\n",
    "r2, type(r2)"
   ]
  },
  {
   "cell_type": "code",
   "execution_count": 21,
   "metadata": {},
   "outputs": [
    {
     "data": {
      "text/plain": [
       "<div id=\"animal2\">\n",
       "<div class=\"animal\">호랑이</div>\n",
       "<div class=\"cnt\">2마리</div>\n",
       "</div>"
      ]
     },
     "execution_count": 21,
     "metadata": {},
     "output_type": "execute_result"
    }
   ],
   "source": [
    "r3 = soup.find('div', attrs={'id':'animal2'})\n",
    "r3\n",
    "# 이렇게 attrs로 제약조건을 줄 수 있음."
   ]
  },
  {
   "cell_type": "code",
   "execution_count": 22,
   "metadata": {},
   "outputs": [
    {
     "data": {
      "text/plain": [
       "[<div class=\"animal\">사자</div>,\n",
       " <div class=\"animal\">호랑이</div>,\n",
       " <div class=\"animal\">기린</div>]"
      ]
     },
     "execution_count": 22,
     "metadata": {},
     "output_type": "execute_result"
    }
   ],
   "source": [
    "r4 = soup.find_all('div', attrs={'class':'animal'})\n",
    "r4\n",
    "\n",
    "# div 태그 중에 class가 animal인 것들."
   ]
  },
  {
   "cell_type": "code",
   "execution_count": 23,
   "metadata": {},
   "outputs": [
    {
     "data": {
      "text/plain": [
       "[<div class=\"animal\">사자</div>,\n",
       " <div class=\"animal\">호랑이</div>,\n",
       " <div class=\"animal\">기린</div>,\n",
       " <span class=\"animal\">기린</span>]"
      ]
     },
     "execution_count": 23,
     "metadata": {},
     "output_type": "execute_result"
    }
   ],
   "source": [
    "r5 = soup.find_all('', attrs={'class':'animal'})\n",
    "r5\n",
    "\n",
    "# 태그와는 상관없이 조건에 만족하는 것들 전부 찾음.\n",
    "# 그래서 span도 껴있음."
   ]
  },
  {
   "cell_type": "code",
   "execution_count": 25,
   "metadata": {},
   "outputs": [
    {
     "data": {
      "text/plain": [
       "[<div class=\"animal\">사자</div>,\n",
       " <div class=\"animal\">호랑이</div>,\n",
       " <div class=\"animal\">기린</div>,\n",
       " <span class=\"animal\">기린</span>]"
      ]
     },
     "execution_count": 25,
     "metadata": {},
     "output_type": "execute_result"
    }
   ],
   "source": [
    "r6 = soup.find_all(['div', 'span'], attrs={'class':'animal'})\n",
    "r6\n",
    "\n",
    "# 여러가지 태그를 찾을 때. 요런 식으로."
   ]
  },
  {
   "cell_type": "code",
   "execution_count": 31,
   "metadata": {},
   "outputs": [
    {
     "name": "stdout",
     "output_type": "stream",
     "text": [
      "사자\n",
      "호랑이\n",
      "기린\n",
      "기린\n"
     ]
    }
   ],
   "source": [
    "for e in r6:\n",
    "    print(e.text)"
   ]
  },
  {
   "cell_type": "code",
   "execution_count": 27,
   "metadata": {},
   "outputs": [
    {
     "data": {
      "text/plain": [
       "[<a href=\"https://grandpark.seoul.go.kr\">서울대공원</a>,\n",
       " <a href=\"http://www.everland.com\">에버랜드 동물원</a>,\n",
       " <a href=\"https://www.coexaqua.com\">코엑스 아쿠아리움</a>,\n",
       " <a href=\"http://www.google.co.kr\">구글</a>]"
      ]
     },
     "execution_count": 27,
     "metadata": {},
     "output_type": "execute_result"
    }
   ],
   "source": [
    "links = soup.find_all('a')\n",
    "links"
   ]
  },
  {
   "cell_type": "code",
   "execution_count": 30,
   "metadata": {},
   "outputs": [
    {
     "name": "stdout",
     "output_type": "stream",
     "text": [
      "서울대공원 - https://grandpark.seoul.go.kr\n",
      "에버랜드 동물원 - http://www.everland.com\n",
      "코엑스 아쿠아리움 - https://www.coexaqua.com\n",
      "구글 - http://www.google.co.kr\n"
     ]
    }
   ],
   "source": [
    "for link in links:\n",
    "#     print(type(link))\n",
    "    print(link.text, '-', link.get('href'))"
   ]
  },
  {
   "cell_type": "code",
   "execution_count": 33,
   "metadata": {},
   "outputs": [
    {
     "data": {
      "text/plain": [
       "[<a href=\"https://grandpark.seoul.go.kr\">서울대공원</a>,\n",
       " <a href=\"https://www.coexaqua.com\">코엑스 아쿠아리움</a>]"
      ]
     },
     "execution_count": 33,
     "metadata": {},
     "output_type": "execute_result"
    }
   ],
   "source": [
    "soup.find_all('a', attrs={'href':re.compile(r'^https')})\n",
    "# 정규표현식을 많이 사용한다.\n",
    "# ^ 이게 뭘로 시작하는 거 찾는 거."
   ]
  },
  {
   "cell_type": "code",
   "execution_count": 34,
   "metadata": {},
   "outputs": [
    {
     "data": {
      "text/plain": [
       "[<a href=\"http://www.everland.com\">에버랜드 동물원</a>,\n",
       " <a href=\"https://www.coexaqua.com\">코엑스 아쿠아리움</a>]"
      ]
     },
     "execution_count": 34,
     "metadata": {},
     "output_type": "execute_result"
    }
   ],
   "source": [
    "soup.find_all('a', attrs={'href':re.compile(r'com$')})\n",
    "# $ 요거는 끝나는 거."
   ]
  },
  {
   "cell_type": "markdown",
   "metadata": {},
   "source": [
    "### CSS Selector를 이용해 조회\n",
    "- select(selector='css셀렉터')\n",
    "    - css 셀렉터와 일치하는 tag들을 반환한다.\n",
    "- select_one(selector='css셀렉터')\n",
    "    - css 셀렉터와 일치하는 tag를 반환한다.\n",
    "    - 일치하는 것이 여러개일 경우 첫번째 것 하나만 반환한다."
   ]
  },
  {
   "cell_type": "code",
   "execution_count": 38,
   "metadata": {},
   "outputs": [
    {
     "data": {
      "text/plain": [
       "[<span class=\"animal\">기린</span>,\n",
       " <span class=\"cnt\">5마리</span>,\n",
       " <a href=\"https://grandpark.seoul.go.kr\">서울대공원</a>,\n",
       " <a href=\"http://www.everland.com\">에버랜드 동물원</a>,\n",
       " <a href=\"https://www.coexaqua.com\">코엑스 아쿠아리움</a>,\n",
       " <a href=\"http://www.google.co.kr\">구글</a>]"
      ]
     },
     "execution_count": 38,
     "metadata": {},
     "output_type": "execute_result"
    }
   ],
   "source": [
    "soup.select('span, a')"
   ]
  },
  {
   "cell_type": "code",
   "execution_count": 39,
   "metadata": {},
   "outputs": [
    {
     "data": {
      "text/plain": [
       "[<div class=\"animal\">사자</div>,\n",
       " <div class=\"animal\">호랑이</div>,\n",
       " <div class=\"animal\">기린</div>]"
      ]
     },
     "execution_count": 39,
     "metadata": {},
     "output_type": "execute_result"
    }
   ],
   "source": [
    "soup.select('div.animal')"
   ]
  },
  {
   "cell_type": "code",
   "execution_count": null,
   "metadata": {},
   "outputs": [],
   "source": [
    "soup.select('div#animal1')\n",
    "\n",
    "# 어차피 하나 밖에 없는 것 찾을 때는, select_one으로 찾는게 좋다. 아이디로 검색할 때.\n",
    "# 전체 다는 리스트로 반환되기 때문."
   ]
  },
  {
   "cell_type": "code",
   "execution_count": 40,
   "metadata": {},
   "outputs": [
    {
     "data": {
      "text/plain": [
       "[<div id=\"animal1\">\n",
       " <div class=\"animal\">사자</div>\n",
       " <div class=\"cnt\">3마리</div>\n",
       " </div>]"
      ]
     },
     "execution_count": 40,
     "metadata": {},
     "output_type": "execute_result"
    }
   ],
   "source": [
    "soup.select_one('div#animal')"
   ]
  },
  {
   "cell_type": "code",
   "execution_count": 41,
   "metadata": {},
   "outputs": [
    {
     "data": {
      "text/plain": [
       "[<div class=\"animal\">사자</div>, <div class=\"cnt\">3마리</div>]"
      ]
     },
     "execution_count": 41,
     "metadata": {},
     "output_type": "execute_result"
    }
   ],
   "source": [
    "soup.select('div#animal1 > div')\n",
    "# 자식 태그 중에서 div인 것들 찾자.\n",
    "# 꺽쇠 있고 없고 차이는?\n",
    "# 있으면 자식만 되는거야. 있고 없고 차이 기억하기."
   ]
  },
  {
   "cell_type": "code",
   "execution_count": 47,
   "metadata": {},
   "outputs": [
    {
     "data": {
      "text/plain": [
       "[<a href=\"https://grandpark.seoul.go.kr\">서울대공원</a>,\n",
       " <a href=\"http://www.everland.com\">에버랜드 동물원</a>,\n",
       " <a href=\"https://www.coexaqua.com\">코엑스 아쿠아리움</a>]"
      ]
     },
     "execution_count": 47,
     "metadata": {},
     "output_type": "execute_result"
    }
   ],
   "source": [
    "soup.select('ul > li > a')\n",
    "# > 이거는 자식 태그만 찾는거다.\n",
    "# ('ul a') ul 밑에 a"
   ]
  },
  {
   "cell_type": "code",
   "execution_count": 50,
   "metadata": {},
   "outputs": [
    {
     "data": {
      "text/plain": [
       "['https://grandpark.seoul.go.kr',\n",
       " 'http://www.everland.com',\n",
       " 'https://www.coexaqua.com']"
      ]
     },
     "execution_count": 50,
     "metadata": {},
     "output_type": "execute_result"
    }
   ],
   "source": [
    "links = soup.select('ul a')\n",
    "[link.get('href') for link in links]\n",
    "# 포문도 사용 가능하고. 리스트 컴프리헨션도 가능하다. "
   ]
  },
  {
   "cell_type": "code",
   "execution_count": 49,
   "metadata": {},
   "outputs": [
    {
     "data": {
      "text/plain": [
       "[<a href=\"https://grandpark.seoul.go.kr\">서울대공원</a>,\n",
       " <a href=\"http://www.everland.com\">에버랜드 동물원</a>,\n",
       " <a href=\"https://www.coexaqua.com\">코엑스 아쿠아리움</a>,\n",
       " <a href=\"http://www.google.co.kr\">구글</a>]"
      ]
     },
     "execution_count": 49,
     "metadata": {},
     "output_type": "execute_result"
    }
   ],
   "source": [
    "soup.select('a')"
   ]
  },
  {
   "cell_type": "code",
   "execution_count": 53,
   "metadata": {},
   "outputs": [
    {
     "data": {
      "text/plain": [
       "[<div class=\"cnt\">3마리</div>,\n",
       " <div class=\"cnt\">2마리</div>,\n",
       " <div class=\"cnt\">5마리</div>]"
      ]
     },
     "execution_count": 53,
     "metadata": {},
     "output_type": "execute_result"
    }
   ],
   "source": [
    "soup.select('div:nth-child(2)')\n",
    "\n",
    "# div:n번째 자식인 요소 \n",
    "# div 중에 두번째 자식인 친구들 찾는 거."
   ]
  },
  {
   "cell_type": "code",
   "execution_count": 56,
   "metadata": {},
   "outputs": [
    {
     "data": {
      "text/plain": [
       "[<div class=\"cnt\">3마리</div>,\n",
       " <div id=\"animal2\">\n",
       " <div class=\"animal\">호랑이</div>\n",
       " <div class=\"cnt\">2마리</div>\n",
       " </div>,\n",
       " <div class=\"cnt\">2마리</div>,\n",
       " <div class=\"cnt\">5마리</div>]"
      ]
     },
     "execution_count": 56,
     "metadata": {},
     "output_type": "execute_result"
    }
   ],
   "source": [
    "soup.select('div:nth-of-type(2)')\n",
    "\n",
    "# 같은 부모의 div 중 n번째 자식인 요소.\n",
    "# 다른 태그는 신경 안쓰고 div만 봤을 때 두 번째 애들 찾는다. div 태그 중에서 두번째들"
   ]
  },
  {
   "cell_type": "code",
   "execution_count": 57,
   "metadata": {},
   "outputs": [
    {
     "data": {
      "text/plain": [
       "[<div class=\"animal\">기린</div>]"
      ]
     },
     "execution_count": 57,
     "metadata": {},
     "output_type": "execute_result"
    }
   ],
   "source": [
    "soup.select('#animal3 > div.animal')"
   ]
  }
 ],
 "metadata": {
  "kernelspec": {
   "display_name": "Python 3",
   "language": "python",
   "name": "python3"
  },
  "language_info": {
   "codemirror_mode": {
    "name": "ipython",
    "version": 3
   },
   "file_extension": ".py",
   "mimetype": "text/x-python",
   "name": "python",
   "nbconvert_exporter": "python",
   "pygments_lexer": "ipython3",
   "version": "3.7.6"
  },
  "toc": {
   "base_numbering": 1,
   "nav_menu": {},
   "number_sections": false,
   "sideBar": false,
   "skip_h1_title": false,
   "title_cell": "Table of Contents",
   "title_sidebar": "Contents",
   "toc_cell": false,
   "toc_position": {},
   "toc_section_display": true,
   "toc_window_display": false
  },
  "varInspector": {
   "cols": {
    "lenName": 16,
    "lenType": 16,
    "lenVar": 40
   },
   "kernels_config": {
    "python": {
     "delete_cmd_postfix": "",
     "delete_cmd_prefix": "del ",
     "library": "var_list.py",
     "varRefreshCmd": "print(var_dic_list())"
    },
    "r": {
     "delete_cmd_postfix": ") ",
     "delete_cmd_prefix": "rm(",
     "library": "var_list.r",
     "varRefreshCmd": "cat(var_dic_list()) "
    }
   },
   "types_to_exclude": [
    "module",
    "function",
    "builtin_function_or_method",
    "instance",
    "_Feature"
   ],
   "window_display": false
  }
 },
 "nbformat": 4,
 "nbformat_minor": 2
}
