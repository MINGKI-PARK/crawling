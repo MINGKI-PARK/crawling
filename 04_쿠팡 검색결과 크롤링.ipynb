{
 "cells": [
  {
   "cell_type": "code",
   "execution_count": 18,
   "metadata": {},
   "outputs": [],
   "source": [
    "import re\n",
    "import requests\n",
    "import pandas as pd\n",
    "from urllib import parse\n",
    "from bs4 import BeautifulSoup\n",
    "from datetime import datetime"
   ]
  },
  {
   "cell_type": "code",
   "execution_count": 3,
   "metadata": {},
   "outputs": [
    {
     "name": "stdout",
     "output_type": "stream",
     "text": [
      "검색 키워드 : 노트북\n"
     ]
    }
   ],
   "source": [
    "keyword = input('검색 키워드 : ')"
   ]
  },
  {
   "cell_type": "code",
   "execution_count": 23,
   "metadata": {},
   "outputs": [],
   "source": [
    "url = 'https://www.coupang.com/np/search'\n",
    "params = {\n",
    "    'q':keyword\n",
    "}\n",
    "\n",
    "headers = {\n",
    "    'User-Agent':'Mozilla/5.0 (Windows NT 10.0; Win64; x64) AppleWebKit/537.36 (KHTML, like Gecko) Chrome/84.0.4147.89 Safari/537.36'\n",
    "}\n",
    "\n",
    "# 보통 안되면 유저에이전트 그 다음 레퍼러 그 다음 쿠키."
   ]
  },
  {
   "cell_type": "markdown",
   "metadata": {},
   "source": [
    "- 제품명\n",
    "- 상세 링크\n",
    "- 판매가"
   ]
  },
  {
   "cell_type": "code",
   "execution_count": 12,
   "metadata": {},
   "outputs": [],
   "source": [
    "# base_url : ul#productList\n",
    "# 제품명 : div.name : text\n",
    "# 상세 링크 : a : href 속성\n",
    "# 판매가 : strong.price-value : text\n",
    "\n",
    "\n",
    "# #\\31 681782369 > a > dl > dd > div > div.name"
   ]
  },
  {
   "cell_type": "code",
   "execution_count": 13,
   "metadata": {},
   "outputs": [],
   "source": [
    "res = requests.get(url, params=params, headers=headers)"
   ]
  },
  {
   "cell_type": "code",
   "execution_count": 16,
   "metadata": {},
   "outputs": [
    {
     "name": "stdout",
     "output_type": "stream",
     "text": [
      "삼성전자 갤럭시북 이온 NT950XCJ-K78A (i7-10510U 39.6cm), 포함, NVMe 256GB + NVMe 256GB, 16GB\n",
      "/vp/products/1137914312?itemId=2517400150&vendorItemId=70510368267&sourceType=srp_product_ads\n",
      "1,959,000\n"
     ]
    }
   ],
   "source": [
    "if res.status_code == 200:\n",
    "    soup = BeautifulSoup(res.text)\n",
    "    \n",
    "#     name = soup.select_one('div.name').text\n",
    "#     link = soup.select_one('div.name').get('href')\n",
    "#     price = soup.select_one('strong.price-value').text\n",
    "    \n",
    "# name, link, price\n",
    "    \n",
    "    item_list = soup.select('ul#productList li')\n",
    "#     print(len(item_list))\n",
    "    \n",
    "    result_list = [] # 조회 결과를 담을 리스트\n",
    "    \n",
    "    for item in item_list:\n",
    "        item_name = item.select_one('div.name').text.strip()\n",
    "        link = item.select_one('a').get('href')\n",
    "        \n",
    "        price = item.select_one('strong.price-value').text.strip()\n",
    "        print(item_name, link, price, sep='\\n')\n",
    "        break\n",
    "    "
   ]
  },
  {
   "cell_type": "code",
   "execution_count": 22,
   "metadata": {},
   "outputs": [],
   "source": [
    "# 가격이 없는 제품이 있을 때\n",
    "\n",
    "if res.status_code == 200:\n",
    "    soup = BeautifulSoup(res.text)\n",
    "    \n",
    "#     name = soup.select_one('div.name').text\n",
    "#     link = soup.select_one('div.name').get('href')\n",
    "#     price = soup.select_one('strong.price-value').text\n",
    "    \n",
    "# name, link, price\n",
    "    \n",
    "    item_list = soup.select('ul#productList li')\n",
    "#     print(len(item_list))\n",
    "    \n",
    "    result_list = [] # 조회 결과를 담을 리스트\n",
    "    error_cnt = 0\n",
    "    \n",
    "    base_url = 'https://www.coupang.com/'\n",
    "    for item in item_list:\n",
    "        try:\n",
    "            item_name = item.select_one('div.name').text.strip()\n",
    "            link = item.select_one('a').get('href')\n",
    "            link = parse.urljoin(base_url, link)\n",
    "            \n",
    "            # 가격에서 쉼표 구분자 제거하기.\n",
    "            price = item.select_one('strong.price-value').text.strip()\n",
    "            price = ''.join(price.split(','))\n",
    "            \n",
    "            result_list.append((item_name, link, price))\n",
    "            \n",
    "        except Exception as e:\n",
    "            print(e)\n",
    "            error_cnt += 1\n",
    "            \n",
    "    # 판다스를 이용해 csv / excel 파일로 저장.\n",
    "    filename = '쿠팡_{keyword}_조회결과_{date}'.format(keyword=keyword, date=datetime.now().strftime('%Y-%m-%d'))\n",
    "    \n",
    "    df = pd.DataFrame(result_list, columns=['상품명', '링크', '가격'])\n",
    "    df.to_csv(filename+'.csv', index=False, encoding='UTF-8')\n",
    "    df.to_excel(filename+'.xls', index=False)"
   ]
  },
  {
   "cell_type": "code",
   "execution_count": null,
   "metadata": {},
   "outputs": [],
   "source": [
    "# 쿠팡 전체 페이지 크롤링해보기.\n"
   ]
  },
  {
   "cell_type": "code",
   "execution_count": null,
   "metadata": {},
   "outputs": [],
   "source": []
  }
 ],
 "metadata": {
  "kernelspec": {
   "display_name": "Python 3",
   "language": "python",
   "name": "python3"
  },
  "language_info": {
   "codemirror_mode": {
    "name": "ipython",
    "version": 3
   },
   "file_extension": ".py",
   "mimetype": "text/x-python",
   "name": "python",
   "nbconvert_exporter": "python",
   "pygments_lexer": "ipython3",
   "version": "3.7.6"
  }
 },
 "nbformat": 4,
 "nbformat_minor": 4
}
